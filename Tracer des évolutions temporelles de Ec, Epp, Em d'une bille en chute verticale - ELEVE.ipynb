{
 "cells": [
  {
   "cell_type": "markdown",
   "metadata": {},
   "source": [
    "<div class=\"panel panel-primary\">\n",
    "    <div class=\"panel-heading\"><h2>Préambule :</h2></div>\n",
    "      <div class=\"panel-body\">\n",
    "Dans cette interface, vous allez découvrir des blocs de code qui composent un programme informatique complet.\n",
    "\n",
    "Afin de vous permettre de vous initier au codage et de vous faire participer à compléter ce programme informatique, le programme sera fragmenté par blocs. \n",
    "\n",
    "Ainsi, vous serez sollicité.e.s pour deux types d'action. <br>\n",
    "- un travail pour <i>exécuter</i> un bloc de programme informatique ;<br>\n",
    "- un travail pour <i>compléter</i> un bloc de programme informatique.<br>\n",
    "<br>\n",
    "Avant de commencer à découvrir le contenu du programme informatique proposé, je vous invite à prendre connaissance des différents types de consignes et des codes couleurs associés que vous allez rencontrer.\n",
    "      </div>\n",
    "</div>"
   ]
  },
  {
   "cell_type": "markdown",
   "metadata": {},
   "source": [
    "<div class=\"alert alert-info\" role=\"alert\">\n",
    "<b>Informations pour exécuter un bloc de programme informatique : </b> <br>\n",
    "<br><i>Avant</i> les blocs de programme qu'il faut simplément \"exécuter\", vous trouverez :<br>\n",
    "la consigne de travail sur un fond bleu avec une écriture en bleu foncé comme pour cette consigne.<br>\n",
    "\n",
    "Pour Exécuter le code dans un bloc de programme, il faut le sélectionner en cliquant sur la cellule du bloc, puis cliquer sur le bouton Run (ou Exécuter) <b>en haut de la page</b> ou bien en cliquant sur la flèche à côté de In (ou Entrée) si vous êtes sur tablettes ou smartphones.\n",
    "</div>"
   ]
  },
  {
   "cell_type": "markdown",
   "metadata": {},
   "source": [
    "<div class=\"alert alert-warning\">\n",
    "<b>Informations pour compléter un bloc de programme informatique: </b> <br>\n",
    "Certains blocs de codes doivent être complétés <span style='border:1px outset black'>avant</span> d'être exécutés afin de fonctionner convenablement.<br>\n",
    "<br><i>Avant</i> les blocs de programme qu'il faut \"compléter\", vous trouverez:\n",
    "<br> -la consigne de travail sur un fond jaune avec une écriture en brun - comme pour cette consigne.\n",
    "<br>-Dans le bloc de programme à compléter vous remplacerez la mention \"-----A COMPLETER-----\" par le code adapté.\n",
    "<br>-Dans certains cas, il est possible d'avoir des aides et/ou la solution.\n",
    "<br><b>ATTENTION : Une fois le programme complété, il faut alors exécuter le bloc de code correspondant.</b>\n",
    "</div>"
   ]
  },
  {
   "cell_type": "markdown",
   "metadata": {},
   "source": [
    "<h1> INTERFACE - Tracer l'évolution temporelle des énergies cinétique, potentielle de pesanteur et mécanique au cours du temps - Term Spé PhyChim</h1>"
   ]
  },
  {
   "cell_type": "markdown",
   "metadata": {},
   "source": [
    "<div class=\"panel panel-default\">\n",
    "      <div class=\"panel-heading\"><h2>Tracer l'évolution temporelle des énergies cinétique, potentielle de pesanteur et mécanique au cours du temps - Term Spé PhyChim</h2></div>\n",
    "       <div class=\"panel-body\">Tout d'abord, un rappel : ce programme a pour but de tracer  l'évolution temporelle des énergies cinétique, potentielle de pesanteur et mécanique au cours du temps d'une bille en chute verticale dans un liquide visqueux </div>\n",
    "<div class=\"panel-body\">           \n",
    "Dans cette interface, vous allez découvrir des blocs de code qui composent un programme informatique. Ce programme a pour but :</div>\n",
    "<div class=\"panel-body\">     \n",
    "1] de demander à l'opératrice ou à l'opérateur d'importer la librairie \"pyplot\" permettant de réaliser des tracés et numpy pour réaliser des calculer, puis de créer des listes pour des variables temps, vitesses et les différentes énergies étudiées.\n",
    "    </div>\n",
    "<div class=\"panel-body\">     \n",
    "2] de demander à l'opératrice ou à l'opérateur de modifier un bloc de programme pour calculer la vitesse de la bille ainsi que les différentes énergies étudiées.\n",
    "    </div>\n",
    "\n",
    "<div class=\"panel-body\">     \n",
    "4] d'exécuter un bloc pour tracer les évolutions temporelles de Ec, Epp et Em.\n",
    "    </div>\n",
    "\n",
    "<div class=\"panel-body\"> \n",
    "L'intégralité du programme (à compléter) est disponible dans l'énoncé du TP.          \n",
    "Afin de vous permettre de vous initier au codage et de vous faire participer pour compléter ce programme informatique, le programme sera donc fragmenté par bloc selon les modalités et consignes d'usages rappelées au début de cette page. \n",
    "    <br>"
   ]
  },
  {
   "cell_type": "markdown",
   "metadata": {},
   "source": [
    "<div class=\"alert alert-info\" role=\"alert\">\n",
    "<b>TRAVAIL À FAIRE POUR EXÉCUTER LE BLOC SUIVANT </b> <br>\n",
    "<br>\n",
    "    Le bloc de programme suivant d'importer la librairie pyplot qui permet de faire des tracés et numpy pour des calculs spécifiques.\n",
    "    \n",
    "<br>\n",
    "De plus, on créée des listes pour la vitesse (V), les instants (tg), l'énergie cinétique (Ec), l'énergie potentielle de pensanteur (Ep) et l'énergie mécanique (Em). Pour l'instant, ce sont des \"tableaux\" vides qui se rempliront par la suite.\n",
    "<br>\n",
    "\n",
    "<br>\n",
    "<br>\n",
    "Exécuter le bloc en faisant un \"clic gauche\" sur ce bloc puis en choisissant \"Exécuter\" dans la barre d'outils.\n",
    "<br>\n",
    "<br>\n",
    "\n",
    "</div>"
   ]
  },
  {
   "cell_type": "code",
   "execution_count": null,
   "metadata": {},
   "outputs": [],
   "source": [
    "import matplotlib.pyplot as plt ;\n",
    "import numpy as np\n",
    "\n",
    "##on definit les listes que l'on va créer\n",
    "V,tg,Ec,Em,Ep=[0],[0],[0],[0],[0]"
   ]
  },
  {
   "cell_type": "markdown",
   "metadata": {},
   "source": [
    "<div class=\"alert alert-info\" role=\"alert\">\n",
    "<b>TRAVAIL À FAIRE POUR EXÉCUTER LE BLOC SUIVANT </b> <br>\n",
    "<br>\n",
    "    Dans le bloc suivant, on a déjà saisi les valeurs des différentes dates t et des positions y. La grandeur \"t\" est convertie en seconde.\n",
    "\n",
    "\n",
    "<br>\n",
    "</div>"
   ]
  },
  {
   "cell_type": "code",
   "execution_count": null,
   "metadata": {},
   "outputs": [],
   "source": [
    "#On note les différentes valeurs du temps (en millisecondes)\n",
    "t = np.array([0, 20, 40, 60, 80, 100, 120, 140, 160, 180, 200, 220, 240, 260, 280, 300, 320, 340, 360, 380, 400, 420])\n",
    "t=t/1000 # on convertit les millisecondes en secondes\n",
    "\n",
    "#On note les différentes valeurs de y en m)\n",
    "y = np.array([0.327, 0.325, 0.319, 0.31, 0.298, 0.288, 0.274, 0.259, 0.244, 0.228, 0.21, 0.193, 0.175, 0.156, 0.139, 0.12, 0.102, 0.084, 0.064, 0.045, 0.027, 0.008])\n",
    "\n"
   ]
  },
  {
   "cell_type": "markdown",
   "metadata": {},
   "source": [
    "<div class=\"alert alert-warning\">\n",
    "<b>TRAVAIL À FAIRE POUR COMPLÉTER LE BLOC SUIVANT </b> <br>\n",
    "<br>\n",
    "    Le bloc de programme suivant permet de calculer la composante vy de la vitesse vitesse de la bille selon l'axe Oy ainsi que de calculer les énergies cinétique (Ec), potentielle de pesanteur (Epp) et mécanique (Em).\n",
    "    \n",
    "<br>\n",
    "<br>\n",
    "\n",
    "<br>\n",
    "<br>\n",
    "Remplacer alors les mentions \"-----A COMPLETER-----\" par une expression adaptée.\n",
    "\n",
    "<br>\n",
    "<br>\n",
    "\n",
    "<br>\n",
    "<b>ATTENTION : Une fois le programme complété, il ne faut pas oublier de l'exécuter.\n",
    "    </div>"
   ]
  },
  {
   "cell_type": "markdown",
   "metadata": {},
   "source": [
    "<details>\n",
    "<summary>Aide</summary>\n",
    "<p>Vous devez compléter les lignes n°3, n°4, n°5 et n°6 en remplaçant la mention \"---A COMPLETER----\" par le calcul adapté. Ne pas oublier que pour calculer  le carré d'une valeur, il faut saisir valeur**2. On considère que la masse de la bille vaut 44 g soit 0.044kg et que l'intensité du champ de la pesanteur vaut 9.81 m/s<sup>2</sup></p>\n",
    "</details>\n",
    "\n",
    "<details>\n",
    "<summary>Solution</summary>\n",
    "<p>On modifie alors les mentions ---A COMPLETER----de la manière suivante : <br></p>\n",
    "    <p>Vi=(y[i+1]-y[i-1])/(t[i+1]-t[i-1])</p>\n",
    "    <p>Eci=0.5*Vi**2*0.044</p>\n",
    "    <p>Epi=0.044*9.81*y[i]</p>\n",
    "    <p>Emi=Eci+Epi</p>\n",
    "</details>"
   ]
  },
  {
   "cell_type": "code",
   "execution_count": null,
   "metadata": {
    "scrolled": true
   },
   "outputs": [],
   "source": [
    "# dans une boucle, on parcourt la liste de t et y pour calculer les differentes valeurs de v, Ec, Ep, Em\n",
    "for i in range(1,21):\n",
    "    Vi=(-----A COMPLETER-----)\n",
    "    Eci=-----A COMPLETER-----\n",
    "    Epi=-----A COMPLETER-----\n",
    "    Emi=-----A COMPLETER-----\n",
    "    \n",
    "## On stocke chaque valeur dans les listes\n",
    "    V.append(Vi)\n",
    "    Ec.append(Eci)\n",
    "    Ep.append(Epi)\n",
    "    Em.append(Emi)\n",
    "    tg.append(t[i])"
   ]
  },
  {
   "cell_type": "markdown",
   "metadata": {},
   "source": [
    "<div class=\"alert alert-info\" role=\"alert\">\n",
    "<b>TRAVAIL À FAIRE POUR EXÉCUTER LE BLOC SUIVANT </b> <br>\n",
    "<br>\n",
    "    Le bloc de programme suivant permet de tracer les évolutions temporelles des différentes énergies.\n",
    "   \n",
    "</div>"
   ]
  },
  {
   "cell_type": "code",
   "execution_count": null,
   "metadata": {},
   "outputs": [],
   "source": [
    "axes = plt.gca()\n",
    "\n",
    "plt.title(\"Energies en fonction du temps\")\n",
    "#On trace les trois courbes d'energie\n",
    "plt.plot(tg,Ec,'or',tg,Ep,'ob',tg,Em,'og')\n",
    "\n",
    "#plt.plot(tg,Ec,'or',label='Ec')\n",
    "#plt.plot(tg,Ep,'ob',label='Ep')\n",
    "#plt.plot(tg,Em,'og',label='Em')\n",
    "\n",
    "# On ajoute un titre pour chaque axe et pour le graphique\n",
    "plt.xlabel(\"temps t (en s)\")\n",
    "plt.ylabel(\"Energie (en J)\")\n",
    "#plt.legend()\n",
    "plt.show()\n",
    "plt.close()\n"
   ]
  },
  {
   "cell_type": "code",
   "execution_count": null,
   "metadata": {},
   "outputs": [],
   "source": []
  }
 ],
 "metadata": {
  "kernelspec": {
   "display_name": "Python 3",
   "language": "python",
   "name": "python3"
  },
  "language_info": {
   "codemirror_mode": {
    "name": "ipython",
    "version": 3
   },
   "file_extension": ".py",
   "mimetype": "text/x-python",
   "name": "python",
   "nbconvert_exporter": "python",
   "pygments_lexer": "ipython3",
   "version": "3.7.4"
  }
 },
 "nbformat": 4,
 "nbformat_minor": 2
}
